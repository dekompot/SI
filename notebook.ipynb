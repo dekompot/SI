{
 "cells": [
  {
   "cell_type": "code",
   "execution_count": 80,
   "metadata": {},
   "outputs": [],
   "source": [
    "import numpy as np\n",
    "import pandas as pd\n",
    "from typing import List, Dict, Tuple\n",
    "from dataclasses import dataclass\n",
    "from datetime import time"
   ]
  },
  {
   "cell_type": "code",
   "execution_count": 176,
   "metadata": {},
   "outputs": [],
   "source": [
    "class Stop:\n",
    "    def __init__(self, name: str, latitude: float, longitude: float) -> None:\n",
    "        self.name = name\n",
    "        self.latitude = latitude\n",
    "        self.longitude = longitude\n",
    "    def __str__(self) -> str:\n",
    "        return self.name + \"[\" + str(self.latitude) + \", \" + str(self.longitude) + \"]\"\n",
    "    def __repr__(self) -> str:\n",
    "        return self.name + \", \" + str(self.latitude) + \",\" + str(self.longitude)\n",
    "    def __hash__(self) -> int:\n",
    "        return hash(str(self.name))\n",
    "    def __eq__(self, __value: object) -> bool:\n",
    "        return isinstance(__value, Stop) and str(self.name) == str(__value.name)\n",
    "    \n",
    "@dataclass\n",
    "class Route:\n",
    "    line: str\n",
    "    departure_minutes: int\n",
    "    arrival_minutes: int\n",
    "\n",
    "@dataclass\n",
    "class StopRecord():\n",
    "    min_arrival_minutes: int\n",
    "    last_stop: Stop\n",
    "    last_route: Route"
   ]
  },
  {
   "cell_type": "code",
   "execution_count": 186,
   "metadata": {},
   "outputs": [
    {
     "name": "stderr",
     "output_type": "stream",
     "text": [
      "C:\\Users\\48791\\AppData\\Local\\Temp\\ipykernel_14628\\1928706170.py:1: DtypeWarning: Columns (2) have mixed types. Specify dtype option on import or set low_memory=False.\n",
      "  real_timetable = pd.read_csv(\"connection_graph (1).csv\")\n"
     ]
    },
    {
     "data": {
      "text/plain": [
       "456019"
      ]
     },
     "execution_count": 186,
     "metadata": {},
     "output_type": "execute_result"
    }
   ],
   "source": [
    "real_timetable = pd.read_csv(\"connection_graph (1).csv\")\n",
    "real_timetable.set_index(keys='Unnamed: 0', inplace=True)\n",
    "real_timetable.drop_duplicates(ignore_index=True, inplace=True)\n",
    "len(real_timetable)"
   ]
  },
  {
   "cell_type": "code",
   "execution_count": 187,
   "metadata": {},
   "outputs": [],
   "source": [
    "def time_to_minutes(time_str: str) -> int:\n",
    "    time_arr = time_str.split(':')\n",
    "    hour=int(time_arr[0])\n",
    "    minute=int(time_arr[1])\n",
    "    return 60 * (hour % 24) + minute\n",
    "def format_time(abnormal_time: int) -> str:\n",
    "    return str(abnormal_time // 60).zfill(2) + \":\" + str(abnormal_time % 60).zfill(2)"
   ]
  },
  {
   "cell_type": "code",
   "execution_count": 179,
   "metadata": {},
   "outputs": [],
   "source": [
    "test_timetable = pd.read_csv(\"test_graph.csv\")"
   ]
  },
  {
   "cell_type": "code",
   "execution_count": 189,
   "metadata": {},
   "outputs": [],
   "source": [
    "timetable_dict: Dict[Stop, Dict[Stop, List[Route]]] = {}\n",
    "for stop in real_timetable.itertuples():\n",
    "    start_stop: Stop = Stop(stop.start_stop, stop.start_stop_lat, stop.start_stop_lon) \n",
    "    end_stop: Stop = Stop(stop.end_stop, stop.end_stop_lat, stop.end_stop_lon)\n",
    "    route: Route = Route(line=stop.line, departure_minutes=time_to_minutes(stop.departure_time), arrival_minutes=time_to_minutes(stop.arrival_time))\n",
    "    if start_stop not in timetable_dict.keys():\n",
    "        timetable_dict[start_stop] = {end_stop: [route]}\n",
    "    elif end_stop in timetable_dict[start_stop].keys():\n",
    "        timetable_dict[start_stop][end_stop].append(route)\n",
    "    else:\n",
    "        timetable_dict[start_stop][end_stop] = [route] \n",
    "    if end_stop not in timetable_dict.keys():\n",
    "        timetable_dict[end_stop] = {}\n",
    "for stop, neighbors in timetable_dict.items():\n",
    "    for _, routes in neighbors.items():\n",
    "        routes.sort(key=lambda rt: rt.arrival_minutes)"
   ]
  },
  {
   "cell_type": "code",
   "execution_count": 223,
   "metadata": {},
   "outputs": [
    {
     "name": "stdout",
     "output_type": "stream",
     "text": [
      " 1. \t  4) [23:54] Tramwajowa                        - [23:56] ZOO (Day 1)\n",
      " 2. \t  4) [23:56] ZOO                               - [23:57] Hala Stulecia (Day 1)\n",
      " 3. \t  4) [23:57] Hala Stulecia                     - [23:59] Kliniki - Politechnika Wrocławska (Day 1)\n",
      " 4. \t  4) [23:59] Kliniki - Politechnika Wrocławska - [00:01] PL. GRUNWALDZKI (Day 2)\n",
      " 5. \t  4) [00:01] PL. GRUNWALDZKI                   - [00:03] Piastowska (Day 2)\n",
      " 6. \t  4) [00:03] Piastowska                        - [00:05] Prusa (Day 2)\n",
      " 7. \t  4) [00:05] Prusa                             - [00:06] Wyszyńskiego (Day 2)\n",
      " 8. \t  4) [00:06] Wyszyńskiego                      - [00:08] Nowowiejska (Day 2)\n",
      " 9. \t  4) [00:08] Nowowiejska                       - [00:10] Słowiańska (Day 2)\n",
      "10. \t250) [00:21] Słowiańska                        - [00:22] DWORZEC NADODRZE (Day 2)\n",
      "11. \t250) [00:22] DWORZEC NADODRZE                  - [00:23] Paulińska (Day 2)\n",
      "12. \t250) [00:23] Paulińska                         - [00:25] Dubois (Day 2)\n",
      "13. \t250) [00:25] Dubois                            - [00:26] Pomorska (Day 2)\n",
      "14. \t257) [00:27] Pomorska                          - [00:28] Mosty Pomorskie (Day 2)\n",
      "15. \t257) [00:28] Mosty Pomorskie                   - [00:29] Rynek (Day 2)\n",
      "16. \t257) [00:31] Rynek                             - [00:32] Narodowe Forum Muzyki (Day 2)\n",
      "17. \t257) [00:32] Narodowe Forum Muzyki             - [00:34] Renoma (Day 2)\n",
      "18. \t257) [00:34] Renoma                            - [00:36] DWORZEC GŁÓWNY (Day 2)\n",
      "19. \t257) [00:37] DWORZEC GŁÓWNY                    - [00:39] DWORZEC AUTOBUSOWY (Day 2)\n",
      "20. \t240) [00:46] DWORZEC AUTOBUSOWY                - [00:48] EPI (Day 2)\n",
      "21. \t241) [01:05] EPI                               - [01:06] Gwiaździsta (Day 2)\n",
      "22. \t241) [01:06] Gwiaździsta                       - [01:07] Zielińskiego (Day 2)\n",
      "23. \t241) [01:07] Zielińskiego                      - [01:09] Zaporoska (Day 2)\n",
      "24. \t241) [01:09] Zaporoska                         - [01:10] Krucza (Day 2)\n",
      "25. \t241) [01:10] Krucza                            - [01:11] Krucza (Mielecka) (Day 2)\n",
      "26. \t241) [01:11] Krucza (Mielecka)                 - [01:12] Kolbuszowska (Stadion) (Day 2)\n",
      "27. \t241) [01:12] Kolbuszowska (Stadion)            - [01:13] Inżynierska (Day 2)\n",
      "28. \t241) [01:13] Inżynierska                       - [01:15] Aleja Pracy (Day 2)\n",
      "29. \t241) [01:15] Aleja Pracy                       - [01:17] FAT (Day 2)\n",
      "30. \t241) [01:17] FAT                               - [01:18] Ostrowskiego (Day 2)\n",
      "31. \t241) [01:18] Ostrowskiego                      - [01:19] Końcowa (Day 2)\n",
      "32. \t241) [01:19] Końcowa                           - [01:20] Krzemieniecka (Day 2)\n",
      "33. \t241) [01:20] Krzemieniecka                     - [01:21] Trawowa (Day 2)\n",
      "34. \t241) [04:46] Trawowa                           - [04:48] Awicenny (Stacja kolejowa) (Day 2)\n",
      "35. \t241) [04:51] Awicenny (Stacja kolejowa)        - [04:52] Stanisławowska (W.K. Formaty) (Day 2)\n",
      "36. \t241) [04:52] Stanisławowska (W.K. Formaty)     - [04:53] Muchobór Wielki (Day 2)\n"
     ]
    }
   ],
   "source": [
    "start = Stop(\"Tramwajowa\", 51.10446678,17.08466997)\n",
    "end = Stop(\"Muchobór Wielki\", 51.09892535,16.94155277)\n",
    "# end = Stop(\"DWORZEC NADODRZE\", 51.12431442,17.03503321)\n",
    "start_time = '23:53:00'\n",
    "change_minutes = 1\n",
    "time = time_to_minutes(start_time)\n",
    "stops_records: Dict[Stop, StopRecord] = {} \n",
    "for key in timetable_dict.keys():\n",
    "    stops_records[key] = StopRecord(1e10, None, None)\n",
    "stops_records[start] = StopRecord(time, None, None)\n",
    "unseen_stops = list(timetable_dict.keys())\n",
    "while(len(unseen_stops) > 0):\n",
    "    curr_stop = unseen_stops[0]\n",
    "    for stop in unseen_stops:\n",
    "        if stops_records[stop].min_arrival_minutes < stops_records[curr_stop].min_arrival_minutes:\n",
    "            curr_stop = stop\n",
    "    unseen_stops.remove(curr_stop)\n",
    "    arrival_minutes_modulo = stops_records[curr_stop].min_arrival_minutes % (24*60) \n",
    "    for neighbor, routes in timetable_dict[curr_stop].items():\n",
    "        min_arrival_id = -1\n",
    "        for i in range(len(routes)):\n",
    "            change_fine = 0 if stops_records[curr_stop].last_route is not None and routes[i].line == stops_records[curr_stop].last_route.line else change_minutes\n",
    "            if arrival_minutes_modulo + change_fine <= routes[i].departure_minutes:\n",
    "                min_arrival_id = i\n",
    "                break\n",
    "        min_arrival_minutes = routes[min_arrival_id].arrival_minutes if min_arrival_id > -1 else 24*60+routes[0].arrival_minutes\n",
    "        min_arrival_id = max(min_arrival_id,0)\n",
    "        min_arrival_minutes += (stops_records[curr_stop].min_arrival_minutes // (24*60)) * 24*60 \n",
    "        min_arrival_minutes += 0 if routes[min_arrival_id].arrival_minutes > routes[min_arrival_id].departure_minutes else 24*60\n",
    "        if min_arrival_minutes < stops_records[neighbor].min_arrival_minutes:\n",
    "            stops_records[neighbor].min_arrival_minutes = min_arrival_minutes\n",
    "            stops_records[neighbor].last_stop = curr_stop\n",
    "            stops_records[neighbor].last_route = routes[min_arrival_id]\n",
    "temp = end, stops_records[end]\n",
    "route: List[Tuple[Stop, StopRecord]] = []\n",
    "max_length = [0,0,0,0,0]\n",
    "while temp[1].last_stop is not None:\n",
    "    route.append(temp)\n",
    "    for i, element in enumerate([temp[1].last_route.line, temp[1].last_stop.name, format_time(temp[1].last_route.departure_minutes), temp[0].name, format_time(temp[1].last_route.arrival_minutes)]):\n",
    "        max_length[i] = len(str(element)) if len(str(element)) > max_length[i] else max_length[i]\n",
    "    temp = temp[1].last_stop, stops_records[temp[1].last_stop]\n",
    "route.reverse()\n",
    "for i, stop in enumerate(route):\n",
    "    day_info = \"Day \" +  str(stop[1].min_arrival_minutes // (24*60) + 1)\n",
    "    print(f\"{str(i+1).rjust(len(str(len(route))))}. \\t{str(stop[1].last_route.line).rjust(max_length[0])}) [{format_time(stop[1].last_route.departure_minutes).rjust(max_length[2])}] {stop[1].last_stop.name.ljust(max_length[1])} - \"\n",
    "          f\"[{format_time(stop[1].last_route.arrival_minutes)}] {stop[0].name} ({day_info})\")"
   ]
  },
  {
   "cell_type": "code",
   "execution_count": 136,
   "metadata": {},
   "outputs": [
    {
     "name": "stdout",
     "output_type": "stream",
     "text": [
      "Chełmońskiego[51.10388356, 17.09071195] 10000000000.0\n",
      "Tramwajowa[51.10446678, 17.08466997] 1433\n",
      "ZOO[51.10556081, 17.0778982] 2635\n",
      "Hala Stulecia[51.10708825, 17.07346452] 4076\n",
      "Kliniki - Politechnika Wrocławska[51.10971261, 17.06511141] 5518\n",
      "PL. GRUNWALDZKI[51.11144435, 17.05995961] 6960\n",
      "most Grunwaldzki[51.11021216, 17.05538488] 8401\n",
      "Piastowska[51.11536582, 17.06087806] 8430\n",
      "Prusa[51.11947637, 17.05740455] 9872\n",
      "Wyszyńskiego[51.12191852, 17.05294165] 11313\n",
      "Nowowiejska[51.12423914, 17.0448911] 12755\n",
      "Słowiańska[51.12354187, 17.04021724] 14196\n",
      "DWORZEC NADODRZE[51.12431442, 17.03503321] 15638\n"
     ]
    }
   ],
   "source": [
    "for k,v in stops_records.items():\n",
    "    print(k,v.min_arrival_minutes)"
   ]
  },
  {
   "cell_type": "code",
   "execution_count": 137,
   "metadata": {},
   "outputs": [
    {
     "name": "stdout",
     "output_type": "stream",
     "text": [
      "min    03:36:00\n",
      "max    30:05:00\n",
      "Name: arrival_time, dtype: object\n"
     ]
    }
   ],
   "source": [
    "print(real_timetable['arrival_time'].agg(['min', 'max']))"
   ]
  },
  {
   "cell_type": "code",
   "execution_count": null,
   "metadata": {},
   "outputs": [
    {
     "name": "stdout",
     "output_type": "stream",
     "text": [
      "Przedzial departure time: 03:34:00 - 30:03:00\n",
      "Przedzial arrival time: 03:36:00 - 30:05:00\n",
      "Przedzial start-stop latitude: 50.98042601 - 51.26556584\n",
      "Przedzial start-stop longitude: 16.695853 - 17.2855453\n"
     ]
    }
   ],
   "source": [
    "print(\"Values range for departure time: \" + real_timetable['departure_time'].min() + \" - \" + real_timetable['departure_time'].max())\n",
    "print(\"Values range for arrival time: \" + real_timetable['arrival_time'].min() + \" - \" + real_timetable['arrival_time'].max())\n",
    "print(\"Values range for start-stop latitude: \" + str(real_timetable['start_stop_lat'].min()) + \" - \" + str(real_timetable['start_stop_lat'].max()))\n",
    "print(\"Values range for start-stop longitude: \" + str(real_timetable['start_stop_lon'].min()) + \" - \" + str(real_timetable['start_stop_lon'].max()))"
   ]
  },
  {
   "cell_type": "code",
   "execution_count": null,
   "metadata": {},
   "outputs": [],
   "source": []
  }
 ],
 "metadata": {
  "kernelspec": {
   "display_name": "si",
   "language": "python",
   "name": "python3"
  },
  "language_info": {
   "codemirror_mode": {
    "name": "ipython",
    "version": 3
   },
   "file_extension": ".py",
   "mimetype": "text/x-python",
   "name": "python",
   "nbconvert_exporter": "python",
   "pygments_lexer": "ipython3",
   "version": "3.12.2"
  }
 },
 "nbformat": 4,
 "nbformat_minor": 2
}
