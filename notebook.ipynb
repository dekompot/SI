{
 "cells": [
  {
   "cell_type": "code",
   "execution_count": 2,
   "metadata": {},
   "outputs": [
    {
     "data": {
      "text/plain": [
       "2.6666666666666665"
      ]
     },
     "execution_count": 2,
     "metadata": {},
     "output_type": "execute_result"
    }
   ],
   "source": [
    "2+2/3"
   ]
  },
  {
   "cell_type": "code",
   "execution_count": 11,
   "metadata": {},
   "outputs": [],
   "source": [
    "import numpy as np\n",
    "import pandas as pd\n",
    "from typing import List, Dict\n",
    "from dataclasses import dataclass"
   ]
  },
  {
   "cell_type": "code",
   "execution_count": 4,
   "metadata": {},
   "outputs": [],
   "source": [
    "test_timetable = pd.read_csv(\"test_graph.csv\")"
   ]
  },
  {
   "cell_type": "code",
   "execution_count": 17,
   "metadata": {},
   "outputs": [],
   "source": [
    "class Stop:\n",
    "    def __init__(self, name: str, latitude: float, longitude: float) -> None:\n",
    "        self.name = name\n",
    "        self.latitude = latitude\n",
    "        self.longitude = longitude\n",
    "    def __str__(self) -> str:\n",
    "        return self.name + \"[\" + str(self.latitude) + \", \" + str(self.longitude) + \"]\"\n",
    "    def __repr__(self) -> str:\n",
    "        return self.name + \";\" + str(self.latitude) + \";\" + str(self.longitude)\n",
    "    def __hash__(self) -> int:\n",
    "        return hash(str(self.name))\n",
    "    def __eq__(self, __value: object) -> bool:\n",
    "        return isinstance(__value, Stop) and str(self) == str(__value)\n",
    "    \n",
    "@dataclass\n",
    "class Route:\n",
    "    line: str\n",
    "    destination: Stop\n",
    "    departure_time: str\n",
    "    arrival_time: str"
   ]
  },
  {
   "cell_type": "code",
   "execution_count": 18,
   "metadata": {},
   "outputs": [],
   "source": [
    "all_stops: Dict[Stop, Route] = {}\n",
    "for stop in test_timetable.itertuples():\n",
    "    start_stop: Stop = Stop(stop.start_stop, stop.start_stop_lat, stop.start_stop_lon) \n",
    "    end_stop: Stop = Stop(stop.end_stop, stop.end_stop_lat, stop.end_stop_lon)\n",
    "    if start_stop not in all_stops.keys():\n",
    "        all_stops[start_stop] = [end_stop] \n",
    "    else:\n",
    "        all_stops[start_stop].append(end_stop)"
   ]
  },
  {
   "cell_type": "code",
   "execution_count": 19,
   "metadata": {},
   "outputs": [
    {
     "data": {
      "text/plain": [
       "{Chełmońskiego;51.10388356;17.09071195: [Tramwajowa;51.10446678;17.08466997],\n",
       " Tramwajowa;51.10446678;17.08466997: [ZOO;51.10556081;17.0778982],\n",
       " ZOO;51.10556081;17.0778982: [Hala Stulecia;51.10708825;17.07346452],\n",
       " Hala Stulecia;51.10708825;17.07346452: [Kliniki - Politechnika Wrocławska;51.10971261;17.06511141],\n",
       " Kliniki - Politechnika Wrocławska;51.10971261;17.06511141: [PL. GRUNWALDZKI;51.11144435;17.05995961,\n",
       "  PL. GRUNWALDZKI;51.1111569;17.06146483],\n",
       " PL. GRUNWALDZKI;51.11144435;17.05995961: [most Grunwaldzki;51.11021216;17.05538488,\n",
       "  Piastowska;51.11536582;17.06087806],\n",
       " Piastowska;51.11536582;17.06087806: [Prusa;51.11947637;17.05740455],\n",
       " Prusa;51.11947637;17.05740455: [Wyszyńskiego;51.12191852;17.05294165],\n",
       " Wyszyńskiego;51.12191852;17.05294165: [Nowowiejska;51.12423914;17.0448911],\n",
       " Nowowiejska;51.12423914;17.0448911: [Słowiańska;51.12354187;17.04021724],\n",
       " Słowiańska;51.12354187;17.04021724: [DWORZEC NADODRZE;51.12431442;17.03503321],\n",
       " DWORZEC NADODRZE;51.12431442;17.03503321: [DWORZEC NADODRZE;51.12474918;17.03497559]}"
      ]
     },
     "execution_count": 19,
     "metadata": {},
     "output_type": "execute_result"
    }
   ],
   "source": [
    "all_stops"
   ]
  },
  {
   "cell_type": "code",
   "execution_count": 51,
   "metadata": {},
   "outputs": [
    {
     "data": {
      "text/plain": [
       "[4, 4, 4, 4, 4, 4, 4, 4, 4, 4, 4, 4, 4, 4]"
      ]
     },
     "execution_count": 51,
     "metadata": {},
     "output_type": "execute_result"
    }
   ],
   "source": [
    "stops"
   ]
  },
  {
   "cell_type": "code",
   "execution_count": 23,
   "metadata": {},
   "outputs": [
    {
     "data": {
      "text/plain": [
       "<bound method NDFrame.head of     Unnamed: 0       company  line departure_time arrival_time  \\\n",
       "0       107472  MPK Tramwaje     4       19:52:00     19:53:00   \n",
       "1       107473  MPK Tramwaje     4       19:53:00     19:55:00   \n",
       "2       107474  MPK Tramwaje     4       19:55:00     19:56:00   \n",
       "3       107475  MPK Tramwaje     4       19:56:00     19:58:00   \n",
       "4       107476  MPK Tramwaje     4       19:58:00     20:00:00   \n",
       "5       107477  MPK Tramwaje     4       20:00:00     20:01:00   \n",
       "6        56906  MPK Tramwaje     1       20:26:00     20:28:00   \n",
       "7        56907  MPK Tramwaje     1       20:28:00     20:30:00   \n",
       "8        56908  MPK Tramwaje     1       20:30:00     20:32:00   \n",
       "9        56909  MPK Tramwaje     1       20:32:00     20:33:00   \n",
       "10       56910  MPK Tramwaje     1       20:33:00     20:35:00   \n",
       "11       56911  MPK Tramwaje     1       20:35:00     20:36:00   \n",
       "12       56912  MPK Tramwaje     1       20:36:00     20:38:00   \n",
       "13       56913  MPK Tramwaje     1       20:38:00     20:39:00   \n",
       "\n",
       "                           start_stop                           end_stop  \\\n",
       "0                       Chełmońskiego                         Tramwajowa   \n",
       "1                          Tramwajowa                                ZOO   \n",
       "2                                 ZOO                      Hala Stulecia   \n",
       "3                       Hala Stulecia  Kliniki - Politechnika Wrocławska   \n",
       "4   Kliniki - Politechnika Wrocławska                    PL. GRUNWALDZKI   \n",
       "5                     PL. GRUNWALDZKI                   most Grunwaldzki   \n",
       "6   Kliniki - Politechnika Wrocławska                    PL. GRUNWALDZKI   \n",
       "7                     PL. GRUNWALDZKI                         Piastowska   \n",
       "8                          Piastowska                              Prusa   \n",
       "9                               Prusa                       Wyszyńskiego   \n",
       "10                       Wyszyńskiego                        Nowowiejska   \n",
       "11                        Nowowiejska                         Słowiańska   \n",
       "12                         Słowiańska                   DWORZEC NADODRZE   \n",
       "13                   DWORZEC NADODRZE                   DWORZEC NADODRZE   \n",
       "\n",
       "    start_stop_lat  start_stop_lon  end_stop_lat  end_stop_lon  \n",
       "0        51.103884       17.090712     51.104467     17.084670  \n",
       "1        51.104467       17.084670     51.105561     17.077898  \n",
       "2        51.105561       17.077898     51.107088     17.073465  \n",
       "3        51.107088       17.073465     51.109713     17.065111  \n",
       "4        51.109713       17.065111     51.111444     17.059960  \n",
       "5        51.111444       17.059960     51.110212     17.055385  \n",
       "6        51.109713       17.065111     51.111157     17.061465  \n",
       "7        51.111157       17.061465     51.115366     17.060878  \n",
       "8        51.115366       17.060878     51.119476     17.057405  \n",
       "9        51.119476       17.057405     51.121919     17.052942  \n",
       "10       51.121919       17.052942     51.124239     17.044891  \n",
       "11       51.124239       17.044891     51.123542     17.040217  \n",
       "12       51.123542       17.040217     51.124314     17.035033  \n",
       "13       51.124314       17.035033     51.124749     17.034976  >"
      ]
     },
     "execution_count": 23,
     "metadata": {},
     "output_type": "execute_result"
    }
   ],
   "source": [
    "test_timetable.head"
   ]
  },
  {
   "cell_type": "code",
   "execution_count": 28,
   "metadata": {},
   "outputs": [
    {
     "ename": "NameError",
     "evalue": "name 'Stop' is not defined",
     "output_type": "error",
     "traceback": [
      "\u001b[1;31m---------------------------------------------------------------------------\u001b[0m",
      "\u001b[1;31mNameError\u001b[0m                                 Traceback (most recent call last)",
      "Cell \u001b[1;32mIn[28], line 1\u001b[0m\n\u001b[1;32m----> 1\u001b[0m stops \u001b[38;5;241m=\u001b[39m [\u001b[43mStop\u001b[49m() \u001b[38;5;28;01mfor\u001b[39;00m stop \u001b[38;5;129;01min\u001b[39;00m test_timetable\u001b[38;5;241m.\u001b[39mitertuples()]\n",
      "\u001b[1;31mNameError\u001b[0m: name 'Stop' is not defined"
     ]
    }
   ],
   "source": []
  },
  {
   "cell_type": "code",
   "execution_count": 27,
   "metadata": {},
   "outputs": [
    {
     "data": {
      "text/plain": [
       "array([[107472, 'MPK Tramwaje', 4, '19:52:00', '19:53:00',\n",
       "        'Chełmońskiego', 'Tramwajowa', 51.10388356, 17.09071195,\n",
       "        51.10446678, 17.08466997],\n",
       "       [107473, 'MPK Tramwaje', 4, '19:53:00', '19:55:00', 'Tramwajowa',\n",
       "        'ZOO', 51.10446678, 17.08466997, 51.10556081, 17.0778982],\n",
       "       [107474, 'MPK Tramwaje', 4, '19:55:00', '19:56:00', 'ZOO',\n",
       "        'Hala Stulecia', 51.10556081, 17.0778982, 51.10708825,\n",
       "        17.07346452],\n",
       "       [107475, 'MPK Tramwaje', 4, '19:56:00', '19:58:00',\n",
       "        'Hala Stulecia', 'Kliniki - Politechnika Wrocławska',\n",
       "        51.10708825, 17.07346452, 51.10971261, 17.06511141],\n",
       "       [107476, 'MPK Tramwaje', 4, '19:58:00', '20:00:00',\n",
       "        'Kliniki - Politechnika Wrocławska', 'PL. GRUNWALDZKI',\n",
       "        51.10971261, 17.06511141, 51.11144435, 17.05995961],\n",
       "       [107477, 'MPK Tramwaje', 4, '20:00:00', '20:01:00',\n",
       "        'PL. GRUNWALDZKI', 'most Grunwaldzki', 51.11144435, 17.05995961,\n",
       "        51.11021216, 17.05538488],\n",
       "       [56906, 'MPK Tramwaje', 1, '20:26:00', '20:28:00',\n",
       "        'Kliniki - Politechnika Wrocławska', 'PL. GRUNWALDZKI',\n",
       "        51.10971261, 17.06511141, 51.1111569, 17.06146483],\n",
       "       [56907, 'MPK Tramwaje', 1, '20:28:00', '20:30:00',\n",
       "        'PL. GRUNWALDZKI', 'Piastowska', 51.1111569, 17.06146483,\n",
       "        51.11536582, 17.06087806],\n",
       "       [56908, 'MPK Tramwaje', 1, '20:30:00', '20:32:00', 'Piastowska',\n",
       "        'Prusa', 51.11536582, 17.06087806, 51.11947637, 17.05740455],\n",
       "       [56909, 'MPK Tramwaje', 1, '20:32:00', '20:33:00', 'Prusa',\n",
       "        'Wyszyńskiego', 51.11947637, 17.05740455, 51.12191852,\n",
       "        17.05294165],\n",
       "       [56910, 'MPK Tramwaje', 1, '20:33:00', '20:35:00', 'Wyszyńskiego',\n",
       "        'Nowowiejska', 51.12191852, 17.05294165, 51.12423914, 17.0448911],\n",
       "       [56911, 'MPK Tramwaje', 1, '20:35:00', '20:36:00', 'Nowowiejska',\n",
       "        'Słowiańska', 51.12423914, 17.0448911, 51.12354187, 17.04021724],\n",
       "       [56912, 'MPK Tramwaje', 1, '20:36:00', '20:38:00', 'Słowiańska',\n",
       "        'DWORZEC NADODRZE', 51.12354187, 17.04021724, 51.12431442,\n",
       "        17.03503321],\n",
       "       [56913, 'MPK Tramwaje', 1, '20:38:00', '20:39:00',\n",
       "        'DWORZEC NADODRZE', 'DWORZEC NADODRZE', 51.12431442, 17.03503321,\n",
       "        51.12474918, 17.03497559]], dtype=object)"
      ]
     },
     "execution_count": 27,
     "metadata": {},
     "output_type": "execute_result"
    }
   ],
   "source": [
    "test_arr"
   ]
  },
  {
   "cell_type": "code",
   "execution_count": 26,
   "metadata": {},
   "outputs": [
    {
     "ename": "NameError",
     "evalue": "name 'Stop' is not defined",
     "output_type": "error",
     "traceback": [
      "\u001b[1;31m---------------------------------------------------------------------------\u001b[0m",
      "\u001b[1;31mNameError\u001b[0m                                 Traceback (most recent call last)",
      "Cell \u001b[1;32mIn[26], line 2\u001b[0m\n\u001b[0;32m      1\u001b[0m \u001b[38;5;28;01mfor\u001b[39;00m row \u001b[38;5;129;01min\u001b[39;00m test_arr:\n\u001b[1;32m----> 2\u001b[0m     stop \u001b[38;5;241m=\u001b[39m \u001b[43mStop\u001b[49m(row[latitude])\n",
      "\u001b[1;31mNameError\u001b[0m: name 'Stop' is not defined"
     ]
    }
   ],
   "source": [
    "for row in test_arr:\n",
    "    stop = Stop(row[latitude])"
   ]
  },
  {
   "cell_type": "code",
   "execution_count": 5,
   "metadata": {},
   "outputs": [
    {
     "name": "stderr",
     "output_type": "stream",
     "text": [
      "C:\\Users\\48791\\AppData\\Local\\Temp\\ipykernel_11972\\3244852323.py:1: DtypeWarning: Columns (2) have mixed types. Specify dtype option on import or set low_memory=False.\n",
      "  real_timetable = pd.read_csv(\"connection_graph (1).csv\")\n"
     ]
    }
   ],
   "source": [
    "real_timetable = pd.read_csv(\"connection_graph (1).csv\")"
   ]
  },
  {
   "cell_type": "code",
   "execution_count": 6,
   "metadata": {},
   "outputs": [
    {
     "data": {
      "text/plain": [
       "<bound method NDFrame.head of         Unnamed: 0               company line departure_time arrival_time  \\\n",
       "0                0          MPK Autobusy    A       20:52:00     20:53:00   \n",
       "1                1          MPK Autobusy    A       20:53:00     20:54:00   \n",
       "2                2          MPK Autobusy    A       20:54:00     20:55:00   \n",
       "3                3          MPK Autobusy    A       20:55:00     20:57:00   \n",
       "4                4          MPK Autobusy    A       20:57:00     20:59:00   \n",
       "...            ...                   ...  ...            ...          ...   \n",
       "996515      996515  DLA Kąty Wrocławskie  967       18:38:00     18:39:00   \n",
       "996516      996516  DLA Kąty Wrocławskie  967       18:39:00     18:41:00   \n",
       "996517      996517  DLA Kąty Wrocławskie  967       18:41:00     18:42:00   \n",
       "996518      996518  DLA Kąty Wrocławskie  967       18:42:00     18:43:00   \n",
       "996519      996519  DLA Kąty Wrocławskie  967       18:43:00     18:45:00   \n",
       "\n",
       "                         start_stop                     end_stop  \\\n",
       "0               Zajezdnia Obornicka                     Paprotna   \n",
       "1                          Paprotna         Obornicka (Wołowska)   \n",
       "2              Obornicka (Wołowska)                   Bezpieczna   \n",
       "3                        Bezpieczna                     Bałtycka   \n",
       "4                          Bałtycka                Broniewskiego   \n",
       "...                             ...                          ...   \n",
       "996515        Smolec - Lipowa/pętla      Smolec - Dębowa (sklep)   \n",
       "996516      Smolec - Dębowa (sklep)            Krzeptów - skrzy.   \n",
       "996517            Krzeptów - skrzy.            Krzeptów - Boisko   \n",
       "996518            Krzeptów - Boisko  Krzeptów - Dolina Krzeptowa   \n",
       "996519  Krzeptów - Dolina Krzeptowa            Smolec - Wiśniowa   \n",
       "\n",
       "        start_stop_lat  start_stop_lon  end_stop_lat  end_stop_lon  \n",
       "0            51.148737       17.021069     51.147752     17.020539  \n",
       "1            51.147752       17.020539     51.144385     17.023735  \n",
       "2            51.144385       17.023735     51.141360     17.026376  \n",
       "3            51.141360       17.026376     51.136632     17.030617  \n",
       "4            51.136632       17.030617     51.135851     17.037383  \n",
       "...                ...             ...           ...           ...  \n",
       "996515       51.075005       16.884421     51.076932     16.881543  \n",
       "996516       51.076932       16.881543     51.088752     16.875808  \n",
       "996517       51.088752       16.875808     51.090678     16.885584  \n",
       "996518       51.090678       16.885584     51.092268     16.892523  \n",
       "996519       51.092268       16.892523     51.087869     16.909206  \n",
       "\n",
       "[996520 rows x 11 columns]>"
      ]
     },
     "execution_count": 6,
     "metadata": {},
     "output_type": "execute_result"
    }
   ],
   "source": [
    "real_timetable.head"
   ]
  },
  {
   "cell_type": "code",
   "execution_count": 15,
   "metadata": {},
   "outputs": [
    {
     "name": "stdout",
     "output_type": "stream",
     "text": [
      "min    03:36:00\n",
      "max    30:05:00\n",
      "Name: arrival_time, dtype: object\n"
     ]
    }
   ],
   "source": [
    "print(real_timetable['arrival_time'].agg(['min', 'max']))"
   ]
  },
  {
   "cell_type": "code",
   "execution_count": null,
   "metadata": {},
   "outputs": [
    {
     "name": "stdout",
     "output_type": "stream",
     "text": [
      "Przedzial departure time: 03:34:00 - 30:03:00\n",
      "Przedzial arrival time: 03:36:00 - 30:05:00\n",
      "Przedzial start-stop latitude: 50.98042601 - 51.26556584\n",
      "Przedzial start-stop longitude: 16.695853 - 17.2855453\n"
     ]
    }
   ],
   "source": [
    "print(\"Values range for departure time: \" + real_timetable['departure_time'].min() + \" - \" + real_timetable['departure_time'].max())\n",
    "print(\"Values range for arrival time: \" + real_timetable['arrival_time'].min() + \" - \" + real_timetable['arrival_time'].max())\n",
    "print(\"Values range for start-stop latitude: \" + str(real_timetable['start_stop_lat'].min()) + \" - \" + str(real_timetable['start_stop_lat'].max()))\n",
    "print(\"Values range for start-stop longitude: \" + str(real_timetable['start_stop_lon'].min()) + \" - \" + str(real_timetable['start_stop_lon'].max()))"
   ]
  },
  {
   "cell_type": "code",
   "execution_count": null,
   "metadata": {},
   "outputs": [],
   "source": []
  }
 ],
 "metadata": {
  "kernelspec": {
   "display_name": "si",
   "language": "python",
   "name": "python3"
  },
  "language_info": {
   "codemirror_mode": {
    "name": "ipython",
    "version": 3
   },
   "file_extension": ".py",
   "mimetype": "text/x-python",
   "name": "python",
   "nbconvert_exporter": "python",
   "pygments_lexer": "ipython3",
   "version": "3.12.2"
  }
 },
 "nbformat": 4,
 "nbformat_minor": 2
}
