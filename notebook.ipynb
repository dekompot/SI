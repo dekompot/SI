{
 "cells": [
  {
   "cell_type": "code",
   "execution_count": 341,
   "metadata": {},
   "outputs": [],
   "source": [
    "import numpy as np\n",
    "import pandas as pd\n",
    "from typing import List, Dict, Tuple, Callable\n",
    "from dataclasses import dataclass\n",
    "from datetime import time\n",
    "import time as tm\n",
    "import sys\n",
    "\n",
    "class Stop:\n",
    "    def __init__(self, name: str, latitude: float, longitude: float) -> None:\n",
    "        self.name = name\n",
    "        self.latitude = latitude\n",
    "        self.longitude = longitude\n",
    "    def __str__(self) -> str:\n",
    "        return self.name + \"[\" + str(self.latitude) + \", \" + str(self.longitude) + \"]\"\n",
    "    def __repr__(self) -> str:\n",
    "        return self.name + \", \" + str(self.latitude) + \",\" + str(self.longitude)\n",
    "    def __hash__(self) -> int:\n",
    "        return hash(str(self.name))\n",
    "    def __eq__(self, __value: object) -> bool:\n",
    "        return isinstance(__value, Stop) and str(self.name) == str(__value.name)\n",
    "    \n",
    "@dataclass\n",
    "class Route:\n",
    "    line: str\n",
    "    departure_minutes: int\n",
    "    arrival_minutes: int\n",
    "\n",
    "@dataclass\n",
    "class StopRecord():\n",
    "    min_arrival_minutes: int\n",
    "    last_stop: Stop\n",
    "    last_route: Route\n",
    "    \n",
    "def time_to_minutes(time_str: str) -> int:\n",
    "    time_arr = time_str.split(':')\n",
    "    hour=int(time_arr[0])\n",
    "    minute=int(time_arr[1])\n",
    "    return 60 * (hour % 24) + minute\n",
    "def format_time(abnormal_time: int) -> str:\n",
    "    return str(abnormal_time // 60).zfill(2) + \":\" + str(abnormal_time % 60).zfill(2)"
   ]
  },
  {
   "cell_type": "code",
   "execution_count": 342,
   "metadata": {},
   "outputs": [],
   "source": [
    "from geopy.distance import geodesic\n",
    "def euclidean(next_node: Stop, end_node: Stop) -> float:\n",
    "    return geodesic((next_node.latitude,next_node.longitude), (end_node.latitude,end_node.longitude)).kilometers / 60"
   ]
  },
  {
   "cell_type": "code",
   "execution_count": 343,
   "metadata": {},
   "outputs": [
    {
     "name": "stderr",
     "output_type": "stream",
     "text": [
      "C:\\Users\\48791\\AppData\\Local\\Temp\\ipykernel_14628\\3405757938.py:1: DtypeWarning: Columns (2) have mixed types. Specify dtype option on import or set low_memory=False.\n",
      "  real_timetable = pd.read_csv(\"connection_graph (1).csv\")\n"
     ]
    }
   ],
   "source": [
    "real_timetable = pd.read_csv(\"connection_graph (1).csv\")\n",
    "real_timetable.set_index(keys='Unnamed: 0', inplace=True)\n",
    "real_timetable.drop_duplicates(ignore_index=True, inplace=True)"
   ]
  },
  {
   "cell_type": "code",
   "execution_count": 344,
   "metadata": {},
   "outputs": [],
   "source": [
    "graph: Dict[Stop, Dict[Stop, Dict[str,List[Route]]]] = {}\n",
    "for stop in real_timetable.itertuples():\n",
    "    start_stop: Stop = Stop(stop.start_stop, stop.start_stop_lat, stop.start_stop_lon) \n",
    "    end_stop: Stop = Stop(stop.end_stop, stop.end_stop_lat, stop.end_stop_lon)\n",
    "    route: Route = Route(line=stop.line, departure_minutes=time_to_minutes(stop.departure_time), arrival_minutes=time_to_minutes(stop.arrival_time))\n",
    "    if start_stop not in graph.keys():\n",
    "        graph[start_stop] = {end_stop: {route.line: [route]}}\n",
    "    elif end_stop in graph[start_stop].keys():\n",
    "        if route.line in graph[start_stop][end_stop].keys():\n",
    "            graph[start_stop][end_stop][route.line].append(route)\n",
    "        else:\n",
    "            graph[start_stop][end_stop][route.line] = [route]\n",
    "    else:\n",
    "        graph[start_stop][end_stop] = {route.line: [route]}\n",
    "    if end_stop not in graph.keys():\n",
    "        graph[end_stop] = {}\n",
    "for stop, neighbors in graph.items():\n",
    "    for _, lines in neighbors.items():\n",
    "        for _, routes in lines.items():\n",
    "            routes.sort(key=lambda rt: rt.arrival_minutes)   "
   ]
  },
  {
   "cell_type": "code",
   "execution_count": 356,
   "metadata": {},
   "outputs": [],
   "source": [
    "class Solution:    \n",
    "    def __init__(self) -> None:\n",
    "        self.graph = graph     \n",
    "    def _proceed(self, a_start: Stop, b_end:Stop, start_time: str, heuristic: Callable[[Stop,Stop],float] = euclidean):\n",
    "        change_minutes = 1\n",
    "        time = time_to_minutes(start_time)\n",
    "        self.stops_records: Dict[Stop, StopRecord] = {} \n",
    "        for key in self.graph.keys():\n",
    "            self.stops_records[key] = StopRecord(1e10, 1e10, None, None)\n",
    "        self.stops_records[a_start] = StopRecord(time, time, None, None)\n",
    "        unseen_stops = list(self.graph.keys())\n",
    "        seen_stops = []\n",
    "        while(len(unseen_stops) > 0):\n",
    "            curr_stop = unseen_stops[0]\n",
    "            for stop in unseen_stops:\n",
    "                if self.stops_records[stop].f < self.stops_records[curr_stop].f:\n",
    "                    curr_stop = stop\n",
    "            if curr_stop == b_end:\n",
    "                return\n",
    "            unseen_stops.remove(curr_stop)\n",
    "            seen_stops.append(curr_stop)\n",
    "            # normalize arrival time to 24h\n",
    "            g_partial = self.stops_records[curr_stop].g % (24*60) \n",
    "            for neighbor, routes in self.graph[curr_stop].items():             \n",
    "                min_arrival_id = -1\n",
    "                for i in range(len(routes)):\n",
    "                    # take time for a change of line\n",
    "                    change_fine = 0 if self.stops_records[curr_stop].last_route is not None and routes[i].line == self.stops_records[curr_stop].last_route.line else change_minutes\n",
    "                    if g_partial + change_fine <= routes[i].departure_minutes:\n",
    "                        min_arrival_id = i\n",
    "                        break\n",
    "                # if there are no more this day, take the first one after midnight...\n",
    "                g = routes[min_arrival_id].arrival_minutes if min_arrival_id > -1 else 24*60+routes[0].arrival_minutes\n",
    "                # ...therefore, this is the chosen route id\n",
    "                min_arrival_id = max(min_arrival_id,0)\n",
    "                # derive real cost including days already travelled (anti-prior-normalization)\n",
    "                g += (self.stops_records[curr_stop].g // (24*60)) * 24*60\n",
    "                # derive real cost adding day if you were on a road during midnight\n",
    "                g += 0 if routes[min_arrival_id].arrival_minutes >= routes[min_arrival_id].departure_minutes else 24*60\n",
    "                \n",
    "                if neighbor not in unseen_stops and neighbor not in seen_stops:\n",
    "                    unseen_stops.append(neighbor)\n",
    "                    self.stops_records[neighbor].g = g\n",
    "                    self.stops_records[neighbor].f = g + heuristic(neighbor, b_end)\n",
    "                    self.stops_records[neighbor].last_stop = curr_stop\n",
    "                    self.stops_records[neighbor].last_route = routes[min_arrival_id]\n",
    "                else:\n",
    "                    if g < self.stops_records[neighbor].g:\n",
    "                        self.stops_records[neighbor].g = g\n",
    "                        self.stops_records[neighbor].f = g + heuristic(neighbor, b_end)\n",
    "                        self.stops_records[neighbor].last_stop = curr_stop\n",
    "                        self.stops_records[neighbor].last_route = routes[min_arrival_id]\n",
    "                        if neighbor in seen_stops:\n",
    "                            unseen_stops.append(neighbor)\n",
    "                            seen_stops.remove(neighbor)"
   ]
  },
  {
   "cell_type": "code",
   "execution_count": 357,
   "metadata": {},
   "outputs": [
    {
     "ename": "TypeError",
     "evalue": "StopRecord.__init__() takes 4 positional arguments but 5 were given",
     "output_type": "error",
     "traceback": [
      "\u001b[1;31m---------------------------------------------------------------------------\u001b[0m",
      "\u001b[1;31mTypeError\u001b[0m                                 Traceback (most recent call last)",
      "Cell \u001b[1;32mIn[357], line 5\u001b[0m\n\u001b[0;32m      3\u001b[0m start_time \u001b[38;5;241m=\u001b[39m \u001b[38;5;124m'\u001b[39m\u001b[38;5;124m23:17:00\u001b[39m\u001b[38;5;124m'\u001b[39m\n\u001b[0;32m      4\u001b[0m s \u001b[38;5;241m=\u001b[39m Solution()\n\u001b[1;32m----> 5\u001b[0m \u001b[43ms\u001b[49m\u001b[38;5;241;43m.\u001b[39;49m\u001b[43m_proceed\u001b[49m\u001b[43m(\u001b[49m\u001b[43ma_start\u001b[49m\u001b[38;5;241;43m=\u001b[39;49m\u001b[43mstart\u001b[49m\u001b[43m,\u001b[49m\u001b[43m \u001b[49m\u001b[43mb_end\u001b[49m\u001b[38;5;241;43m=\u001b[39;49m\u001b[43mend\u001b[49m\u001b[43m,\u001b[49m\u001b[43m \u001b[49m\u001b[43mstart_time\u001b[49m\u001b[38;5;241;43m=\u001b[39;49m\u001b[43mstart_time\u001b[49m\u001b[43m)\u001b[49m\n",
      "Cell \u001b[1;32mIn[356], line 9\u001b[0m, in \u001b[0;36mSolution._proceed\u001b[1;34m(self, a_start, b_end, start_time, heuristic)\u001b[0m\n\u001b[0;32m      7\u001b[0m \u001b[38;5;28mself\u001b[39m\u001b[38;5;241m.\u001b[39mstops_records: Dict[Stop, StopRecord] \u001b[38;5;241m=\u001b[39m {} \n\u001b[0;32m      8\u001b[0m \u001b[38;5;28;01mfor\u001b[39;00m key \u001b[38;5;129;01min\u001b[39;00m \u001b[38;5;28mself\u001b[39m\u001b[38;5;241m.\u001b[39mgraph\u001b[38;5;241m.\u001b[39mkeys():\n\u001b[1;32m----> 9\u001b[0m     \u001b[38;5;28mself\u001b[39m\u001b[38;5;241m.\u001b[39mstops_records[key] \u001b[38;5;241m=\u001b[39m \u001b[43mStopRecord\u001b[49m\u001b[43m(\u001b[49m\u001b[38;5;241;43m1e10\u001b[39;49m\u001b[43m,\u001b[49m\u001b[43m \u001b[49m\u001b[38;5;241;43m1e10\u001b[39;49m\u001b[43m,\u001b[49m\u001b[43m \u001b[49m\u001b[38;5;28;43;01mNone\u001b[39;49;00m\u001b[43m,\u001b[49m\u001b[43m \u001b[49m\u001b[38;5;28;43;01mNone\u001b[39;49;00m\u001b[43m)\u001b[49m\n\u001b[0;32m     10\u001b[0m \u001b[38;5;28mself\u001b[39m\u001b[38;5;241m.\u001b[39mstops_records[a_start] \u001b[38;5;241m=\u001b[39m StopRecord(time, time, \u001b[38;5;28;01mNone\u001b[39;00m, \u001b[38;5;28;01mNone\u001b[39;00m)\n\u001b[0;32m     11\u001b[0m unseen_stops \u001b[38;5;241m=\u001b[39m \u001b[38;5;28mlist\u001b[39m(\u001b[38;5;28mself\u001b[39m\u001b[38;5;241m.\u001b[39mgraph\u001b[38;5;241m.\u001b[39mkeys())\n",
      "\u001b[1;31mTypeError\u001b[0m: StopRecord.__init__() takes 4 positional arguments but 5 were given"
     ]
    }
   ],
   "source": [
    "start = Stop(\"Trawowa\",51.09727033,16.94939119)\n",
    "end = Stop(\"Stanisławowska (W.K. Formaty)\",0,0)\n",
    "start_time = '23:17:00'\n",
    "s = Solution()\n",
    "s._proceed(a_start=start, b_end=end, start_time=start_time)"
   ]
  },
  {
   "cell_type": "code",
   "execution_count": 269,
   "metadata": {},
   "outputs": [
    {
     "name": "stdout",
     "output_type": "stream",
     "text": [
      "Values range for departure time: 03:34:00 - 30:03:00\n",
      "Values range for arrival time: 03:36:00 - 30:05:00\n",
      "Values range for start-stop latitude: 50.98042601 - 51.26556584\n",
      "Values range for start-stop longitude: 16.695853 - 17.2855453\n"
     ]
    }
   ],
   "source": [
    "print(\"Values range for departure time: \" + real_timetable['departure_time'].min() + \" - \" + real_timetable['departure_time'].max())\n",
    "print(\"Values range for arrival time: \" + real_timetable['arrival_time'].min() + \" - \" + real_timetable['arrival_time'].max())\n",
    "print(\"Values range for start-stop latitude: \" + str(real_timetable['start_stop_lat'].min()) + \" - \" + str(real_timetable['start_stop_lat'].max()))\n",
    "print(\"Values range for start-stop longitude: \" + str(real_timetable['start_stop_lon'].min()) + \" - \" + str(real_timetable['start_stop_lon'].max()))"
   ]
  }
 ],
 "metadata": {
  "kernelspec": {
   "display_name": "si",
   "language": "python",
   "name": "python3"
  },
  "language_info": {
   "codemirror_mode": {
    "name": "ipython",
    "version": 3
   },
   "file_extension": ".py",
   "mimetype": "text/x-python",
   "name": "python",
   "nbconvert_exporter": "python",
   "pygments_lexer": "ipython3",
   "version": "3.12.2"
  }
 },
 "nbformat": 4,
 "nbformat_minor": 2
}
