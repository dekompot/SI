{
 "cells": [
  {
   "cell_type": "markdown",
   "metadata": {},
   "source": [
    "# Lista 1\n",
    "#### Daniel Borkowski, 266593"
   ]
  },
  {
   "cell_type": "markdown",
   "metadata": {},
   "source": [
    "Co zrobiłem:\n",
    "1. Dijkstra\n",
    "2. A* dla kryterium czasowego\n",
    "3. A* dla kryterium przesiadkowego\n",
    "\n",
    "Czyli ogólnie zadanie pierwsze. Jeśli starczy mi czasu, to drugie zrobię na zajęcia po świętach, na których będziemy oddawać.\n",
    "W poniższym pliku pochylimy się nad osiągami skonstruowanych algorytmów oraz przyczynami takowych. Objaśnienia pod wykonanymi komurkami. Życzę miłej lektury."
   ]
  },
  {
   "cell_type": "code",
   "execution_count": 107,
   "metadata": {},
   "outputs": [],
   "source": [
    "from solution import Solution\n",
    "from matplotlib import pyplot as plt\n",
    "from random import sample, seed\n",
    "from tools import Stop\n",
    "import pandas as pd\n",
    "import os"
   ]
  },
  {
   "cell_type": "code",
   "execution_count": 34,
   "metadata": {},
   "outputs": [],
   "source": [
    "s = Solution()"
   ]
  },
  {
   "cell_type": "markdown",
   "metadata": {},
   "source": [
    "Generalnie sprawa wygląda tak, że Solution to klasa przykrywka mająca trzy algorytmy gotowe do mielenia: Dijkstre i A* dla kryterium czasowego i A* dla kryterium przesiadek. Te *algorytmy* to po prostu klasa z przygotowaną strukturą (grafem), mająca metodę umożliwiającą puszczenie określonego wejścia (przystanków i czasu) do algorytmu i zwrócenie wyników. Te klasy z grafami implementują wspólny interfejs *Algorithm*."
   ]
  },
  {
   "cell_type": "markdown",
   "metadata": {},
   "source": [
    "Można byłoby to też skonstruować tak, że każde rozwiązanie jest obiektem pewnej klasy. Uprościło by to być może ewentualną serializację wyników (cacheowanie). Inne podejście, tutaj niestosowane."
   ]
  },
  {
   "cell_type": "markdown",
   "metadata": {},
   "source": [
    "## Krótki opis zastosowanych rozwiązań i założeń:\n",
    "#### Przystanek jest identyfikowany wyłącznie przez nazwę\n",
    "To uproszczenie zwalnia nas z obliczania czasu przejścia w ramach przysiadku między przystankami o tej samej nazwie, co nierzadko miałoby zapewne miejsce (gdyż często takie przystanki znajdują się koło siebie). Po uproszczeniu w takiej sytuacje przejście z przystanku na przystanek jest równoważne zwykłej przesiadce, ze stałą *change_time* czasu na przesiadkę. Upraszcza to nieco graf, rodząc jednak kilka problemów jeśli chodzi o kryterium przesiadkowe: gdy pojazdy tej samej linii np. jadące w dwóch przeciwnych kierunkach spotykają się, przejście z jednego do drugiego nie będzie traktowane jako przesiadka (a wymagałaby przecież czasu i obniżałaby wartość rozwiązania). Rozwiązaniem jest identyfikacja przystanków przez współrzędne geograficzne, jednak to wymagałoby dodatkowych rozwiązań umożliwiających kalkulację przejścia pomiędzy przystankami (co jeżeli np. w ogóle szybciej będzie całą trasę pokonać z buta, bo jest noc i przez najbliższe 6 godzin nie odjedzie żaden autobus?).\n",
    "#### Kryterium czasowe\n",
    "Graf skierowany, gdzie wierzchołki to poszczególne przystanki, a krawędź od wierzchołka *A* do wierzchołka *B* jest listą wszystkich kursów w rozkładzie pomiędzy tymi przystankami. Każda wizyta we wierzchołku *A* obejmuje przegląd kursów do wielu *N*, gdzie *N* to każdy sąsiad z osobna, i wybór takiego kursu, który jest w przyszłości względem naszej (wirtualnej) obecności w węźle *A*, a który odjeżdża najwcześniej. Ulepszeniami byłyby: niesprawdzanie *N*, dla którego nasze *A* było **poprzednio** *N* (czyli poprzedniego przystanku, bo to bez sensu żeby się cofać), czy też preobliczenie wszystkich 1440 grafów dla poszczególnych minut, a wówczas przejście algorytmem po jednym z grafów nie byłoby obarczone czasem wyboru kursu.\n",
    "#### Kryterium przesiadkowe:\n",
    "Graf skierowany, gdzie wierzchołki to poszczególne przystanki, z których może odjechać dana linia (linio-przystanki), a krawędzie to możliwe połączenia między nimi. Dla przystanku *A* mamy zbiór linio-przystanków *P*, a dla przystanku *B* zbiór *R*. Jeśli z przystanku *A* linią, która wraz z tym przystankiem formuje *p* (które jest wierzchołkiem grafu) należące do, *P* da się dojechać do przystanku *B*, to z *p* biegnie krawędź skierowana do każdego *r* należącego do *R*. Na potrzeby algorytmu zaczynamy od sztucznego przystanku, gdzie poprzednia linia to *None*, co symuluje równoczesne wyjście wszystkimi liniami z przystanku startowego (we wszystkie strony, jeśli rozpatrujemy nasz graf, redukując wymiar, na mapie, tak jak graf w kryterium czasowym). *De facto* krawędzie zawierają listy połączeń, które tak jak w poprzednim przypadku w czasie wykonywania algorytmu podlegają selekcji. Ponownie rozwiązanie dałoby się ulepszyć preobliczeniami, jednak każdy z grafów będzie znacznie większy.\n",
    "#### Dlaczego dwa różne grafy?\n",
    "Bo graf z przystankami jako wierzchołkami nie wystarczy dla rozpatrywania kryterium przesiadek. Czekamy na jakiś autobus na przystanku *A*, do przystanku *B*: jeden jest za minutę, drugi za godzinę, obie z różnych linii. Który z nich wybrać? Który sprawi, że dojedziemy do przystanku *C* mniejszą liczbą przesiadek? Oczywiste, że bardziej korzystny (lub neutralny) dla kryterium czasowego będzie wybór wcześniejszego połączenia, jednak nie dla kryterium przesiadek. Dlatego musimy rozpatrzeć oba autobusy, przy czym jeśli pierwszy z nich jest linii *K*, a drugi *L*, to wystarczy rozpatrzyć tylko jeden kurs między dwoma przystankami dla danej linii - czas jest istotny o tyle jedynie, że zwrócony musi być plan przejazdu. Problem rodzi się, gdy pojazd jedzie niestandardową ścieżką, np. do zajezdni, na co niestety ów algorytm jest wrażliwy. Wówczas trzeby by było rozpatrywać więcej kursów dla danej linii i przystanku."
   ]
  },
  {
   "cell_type": "markdown",
   "metadata": {},
   "source": [
    "## Analiza danych\n",
    "rzed rozpoczęciem pisania algorytmów została przeprowadzona analiza, która wpłynęła na kształt końcowego rozwiązania. Poniżej najważniejsze informacje na temat problemu oraz struktury rozwiązania."
   ]
  },
  {
   "cell_type": "code",
   "execution_count": 95,
   "metadata": {},
   "outputs": [
    {
     "name": "stdout",
     "output_type": "stream",
     "text": [
      "|V|= 939\n",
      "|E|= 2343\n"
     ]
    }
   ],
   "source": [
    "print(\"|V|=\",len(s.a_star.graph.keys()))\n",
    "counter = 0\n",
    "for neighbor in s.a_star.graph.values():\n",
    "    counter+=len(neighbor)\n",
    "print(\"|E|=\",counter)"
   ]
  },
  {
   "cell_type": "markdown",
   "metadata": {},
   "source": [
    "W grafie do kryterium czasowego jest 939 wierzchołków i 2343 krawędzie."
   ]
  },
  {
   "cell_type": "code",
   "execution_count": 97,
   "metadata": {},
   "outputs": [
    {
     "name": "stdout",
     "output_type": "stream",
     "text": [
      "|V|= 9151\n",
      "|E|= 455231\n"
     ]
    }
   ],
   "source": [
    "v = 0\n",
    "e = 0\n",
    "for stop, neighbors in s.a_star_changes.graph.items():\n",
    "    for neighbor, lines in neighbors.items():\n",
    "        v+=len(lines)\n",
    "        for line, routes in lines.items():\n",
    "            e+=len(routes)\n",
    "print(\"|V|=\",v)\n",
    "print(\"|E|=\",e)"
   ]
  },
  {
   "cell_type": "markdown",
   "metadata": {},
   "source": [
    "W grafie dla kryterium przystanków jest 9151 wierzchołków (linioprzystanków) i 455231 krawędzi (możliwych połączeń między nimi). To jest horrendalnie dużo i dobrze byłoby wymyślić inny pomysł, jeśli jest możliwy. "
   ]
  },
  {
   "cell_type": "markdown",
   "metadata": {},
   "source": [
    "## Heurystyki\n",
    "Zastosowano poniższe heurystyki, aby umożliwić optymalizację funkcji kosztu dla algorytmy A*."
   ]
  },
  {
   "cell_type": "code",
   "execution_count": 99,
   "metadata": {},
   "outputs": [],
   "source": [
    "def euclidean(next_node: Stop, end_node: Stop) -> float:\n",
    "        # distance in kilometers / 120 as optimistic velocity in km/h = optimistic time in hours\n",
    "        # optimistic time in hours * 60 as minutes in an hour = optimistic time in minutes\n",
    "        return 60 * geodesic((next_node.latitude,next_node.longitude), \n",
    "                             (end_node.latitude,end_node.longitude)).kilometers / 120"
   ]
  },
  {
   "cell_type": "markdown",
   "metadata": {},
   "source": [
    "Dla kryterium czasowego obliczamy czas, jaki zajęłoby nam dotarcie do końca trasy jadąc 120 km/h po linii prostej. Jest to z pewnością bardzo optymistyczne. Nieużycie funkcji heurystycznej byłoby przeszukiwaniem ślepo na wszystkie strony, rozwijając równomiernie trasy od źródła we wszystkie strony, natomiast użycie nieoptymistycznej funkcji kosztu odstraszy nas od kierunku, w którym podążamy. Czy udało nam się to osiągnąć? O tym nieco poniżej."
   ]
  },
  {
   "cell_type": "code",
   "execution_count": 100,
   "metadata": {},
   "outputs": [],
   "source": [
    "def approaching(prev_node: Stop, next_node: Stop, end_node: Stop) -> float:\n",
    "        # charge coming further away from target\n",
    "        prev_dist = geodesic((prev_node.latitude,prev_node.longitude), (end_node.latitude,end_node.longitude)).meters\n",
    "        next_dist = geodesic((next_node.latitude,next_node.longitude), (end_node.latitude,end_node.longitude)).meters\n",
    "        return 0 if next_dist < prev_dist else further_charge"
   ]
  },
  {
   "cell_type": "markdown",
   "metadata": {},
   "source": [
    "Dla kryterium przesiadkowego sprawdzamy, czy aktualny fragment trasy (połączenie, które rozpatrujemy) w porównaniu z poprzednim zbliżył nas do celu, czy nie. Jeśli zbliżył, to nie dodajemy nic, jeśli oddalił, to dodajemy `further_charge` (w naszym rozwiązaniu o wartości `0.1`). Musimy sobie zdawać sprawę, że funkcja kosztu przyjmuje za wartości liczby naturalne, w wypadku naszego problemu nieduże, 1, 2, 3 w rozwiązaniach, które zmierzają do celu. Czy zaproponowana heurystyka jest optymistyczna? Wręcz na pewno nie, przynajmniej nie dla wszystkich przypadków. Nie da się bowiem stwierdzić czy tramwaj, który teraz przejechał na wschód, zamiast na zachód, gdzie jest nasz przystanek docelowy, zaraz nie zakręci i nie będzie jechał do końca do celu, a tym samym pozwoli nam dojechać tam bez przesiadki; nie da się tego stwierdzić na podstawie tego, że teraz przejechał na wschód. Można by pewnie jakoś zmapować dwuwymiarową przestrzeń miasta, aby określić ile z dowolnego punktu A do dowolnego punktu B będzie przesiadek, tworząc za pomocą metod matematycznych wielowymiarową mapę; jednakże jeszcze chwila i będzie to równoważne naszemu algorytmowi. Generalnie więc nie możemy być pewni co do optymistyczności naszej heurystyki, jednak problem wydaje się być na tyle trudny, że warto przynajmniej spróbować. Nieużycie żadnej heurystyki będzie premiowało rozwiązania, które jadą do końca, czyli będzie przeszukiwaniem grafu w głąb. Zbytnia pesymistyczność klasycznie będzie odstraszać od zakręcających \"zaraz\" rozwiązań. Jednakże, skoro zbiór wartości funkcji jest tak specyficzny i najlepiej by było, gdyby wynosił 0, to nie mamy dużego pola do wyboru, nie przebudowując funkcji kosztu, która jednakże w tym problemie jest wprost podana w zadaniu."
   ]
  },
  {
   "cell_type": "markdown",
   "metadata": {},
   "source": [
    "## Porównanie osiągów Dijkstry i A* dla kryterium czasowego"
   ]
  },
  {
   "cell_type": "markdown",
   "metadata": {},
   "source": [
    "Ze względu na opracowanie powyższych uważam to porównanie za zasadne. Założenie jest takie, że A* z odpowiednio dobraną heurystyką umożliwi znalezienie optymalnego rozwiązania w krótszym czasie, redukując przeszukaną przestrzeń.\n",
    "\n",
    "Źle opracowana heurystyka (gdy jest nieoptymistyczna) nie gwarantuje znalezienia rozwiązania optymalnego lub opóźnia rzeczywisty czas działania algorytmu (gdy nie przyspiesza znalezienia rozwiązania, a jej obliczanie jest kosztowne)."
   ]
  },
  {
   "cell_type": "code",
   "execution_count": 102,
   "metadata": {},
   "outputs": [],
   "source": [
    "seed('chalamet')\n",
    "fname = 'records.csv'\n",
    "if not os.path.isfile(fname):\n",
    "    routes = pd.read_csv('connection_graph (1).csv', low_memory=False)\n",
    "    routes.set_index(keys='Unnamed: 0', inplace=True)\n",
    "    routes.drop_duplicates(ignore_index=True, inplace=True)\n",
    "    chosen_start = routes['start_stop']\n",
    "    chosen_end = routes['end_stop']\n",
    "    chosen_start.drop_duplicates(inplace=True)\n",
    "    chosen_end.drop_duplicates(inplace=True)\n",
    "    product = []\n",
    "    for i in chosen_start:\n",
    "        for j in chosen_end:\n",
    "            product.append((i,j))\n",
    "    with open(fname, 'w', encoding='utf-8-sig') as f:\n",
    "        for pair in sample(product,1000):\n",
    "            a,b = pair\n",
    "            cost_d, time_d = s.find(a,b,'23:15:00',criteria='d', debug=False)\n",
    "            cost_t, time_t = s.find(a,b,'23:15:00',criteria='t', debug=False)\n",
    "            print(a,b,cost_d,time_d,cost_t,time_t, sep=',', file=f)\n",
    "comparison = pd.read_csv('records.csv', header=None).rename(columns={i: ['start','end','d_cost','d_time','t_cost','t_time'][i] \n",
    "                                                        for i in range(6)})"
   ]
  },
  {
   "cell_type": "markdown",
   "metadata": {},
   "source": [
    "Powyższy skrypt jest dosyć kosztowny, jego odpalenie zajęło 14 minut. Tworzy on zestawienie do analizy porównawczej algorytmów. Analizujemy tysiąc zestawień par przystanków w godzinach nocnych. *d* Dijkstra, *t* A*."
   ]
  },
  {
   "cell_type": "code",
   "execution_count": 105,
   "metadata": {},
   "outputs": [
    {
     "data": {
      "text/html": [
       "<div>\n",
       "<style scoped>\n",
       "    .dataframe tbody tr th:only-of-type {\n",
       "        vertical-align: middle;\n",
       "    }\n",
       "\n",
       "    .dataframe tbody tr th {\n",
       "        vertical-align: top;\n",
       "    }\n",
       "\n",
       "    .dataframe thead th {\n",
       "        text-align: right;\n",
       "    }\n",
       "</style>\n",
       "<table border=\"1\" class=\"dataframe\">\n",
       "  <thead>\n",
       "    <tr style=\"text-align: right;\">\n",
       "      <th></th>\n",
       "      <th>start</th>\n",
       "      <th>end</th>\n",
       "      <th>d_cost</th>\n",
       "      <th>d_time</th>\n",
       "      <th>t_cost</th>\n",
       "      <th>t_time</th>\n",
       "    </tr>\n",
       "  </thead>\n",
       "  <tbody>\n",
       "    <tr>\n",
       "      <th>758</th>\n",
       "      <td>WAŁBRZYSKA</td>\n",
       "      <td>Chełmońskiego</td>\n",
       "      <td>94.0</td>\n",
       "      <td>0.281846</td>\n",
       "      <td>66.0</td>\n",
       "      <td>0.279264</td>\n",
       "    </tr>\n",
       "  </tbody>\n",
       "</table>\n",
       "</div>"
      ],
      "text/plain": [
       "          start            end  d_cost    d_time  t_cost    t_time\n",
       "758  WAŁBRZYSKA  Chełmońskiego    94.0  0.281846    66.0  0.279264"
      ]
     },
     "execution_count": 105,
     "metadata": {},
     "output_type": "execute_result"
    }
   ],
   "source": [
    "comparison[comparison['d_cost'] > comparison ['t_cost']]"
   ]
  },
  {
   "cell_type": "markdown",
   "metadata": {},
   "source": [
    "To wskazuje na jakiś błąd w algorytmach, Dijkstra musi bowiem zwracać rozwiązanie optymalne. Prawdopodobnie algorytm zabłądził jakimś kursem o niestandardowej trasie. Nie będziemy"
   ]
  },
  {
   "cell_type": "code",
   "execution_count": 109,
   "metadata": {},
   "outputs": [
    {
     "name": "stdout",
     "output_type": "stream",
     "text": [
      "From WAŁBRZYSKA at 23:15:00:\n",
      " 1. \t107) [23:17] WAŁBRZYSKA                         - [23:18] Marchewkowa (Day 4.0)\n",
      " 2. \t107) [23:18] Marchewkowa                        - [23:19] Morelowskiego (Day 4.0)\n",
      " 3. \t107) [23:19] Morelowskiego                      - [23:20] Adamieckiego (Day 4.0)\n",
      " 4. \t107) [23:20] Adamieckiego                       - [23:21] Wiejska (Day 4.0)\n",
      " 5. \t107) [23:21] Wiejska                            - [23:22] Solskiego (Day 4.0)\n",
      " 6. \t107) [23:22] Solskiego                          - [23:23] OPORÓW (Day 4.0)\n",
      " 7. \t107) [23:24] OPORÓW                             - [23:25] GRABISZYŃSKA (Cmentarz) (Day 4.0)\n",
      " 8. \t107) [23:25] GRABISZYŃSKA (Cmentarz)            - [23:26] Fiołkowa (Day 4.0)\n",
      " 9. \t107) [23:26] Fiołkowa                           - [23:27] FAT (Day 4.0)\n",
      "10. \t 11) [23:28] FAT                                - [23:29] Hutmen (Day 4.0)\n",
      "11. \t 11) [23:29] Hutmen                             - [23:30] Bzowa (Centrum Historii Zajezdnia) (Day 4.0)\n",
      "12. \t 11) [23:30] Bzowa (Centrum Historii Zajezdnia) - [23:31] pl. Srebrny (Day 4.0)\n",
      "13. \t 11) [23:31] pl. Srebrny                        - [23:32] Stalowa (Day 4.0)\n",
      "14. \t 11) [23:32] Stalowa                            - [23:33] Pereca (Day 4.0)\n",
      "15. \t 11) [23:33] Pereca                             - [23:34] Grabiszyńska (Day 4.0)\n",
      "16. \t 11) [23:34] Grabiszyńska                       - [23:35] Kolejowa (Day 4.0)\n",
      "17. \t 11) [23:35] Kolejowa                           - [23:37] pl. Legionów (Day 4.0)\n",
      "18. \t 21) [23:38] pl. Legionów                       - [23:40] Arkady (Capitol) (Day 4.0)\n",
      "19. \t 21) [23:40] Arkady (Capitol)                   - [23:43] DWORZEC AUTOBUSOWY (Day 4.0)\n",
      "20. \t 21) [23:43] DWORZEC AUTOBUSOWY                 - [23:45] Joannitów (Day 4.0)\n",
      "21. \t 21) [23:45] Joannitów                          - [23:46] Gajowa (Day 4.0)\n",
      "22. \t 21) [23:46] Gajowa                             - [23:48] Prudnicka (Day 4.0)\n",
      "23. \t 21) [23:48] Prudnicka                          - [23:49] Kamienna (Day 4.0)\n",
      "24. \t 21) [23:49] Kamienna                           - [23:51] Bardzka (Day 4.0)\n",
      "25. \t 21) [23:51] Bardzka                            - [23:52] Krynicka (Day 4.0)\n",
      "26. \t 21) [23:52] Krynicka                           - [23:53] Morwowa (Day 4.0)\n",
      "27. \t143) [00:12] Morwowa                            - [00:13] Złotostocka (Day 4.0)\n",
      "28. \t143) [00:13] Złotostocka                        - [00:14] Klimasa (Day 4.0)\n",
      "29. \t143) [00:14] Klimasa                            - [00:15] Armii Krajowej (Bogedaina) (Day 4.0)\n",
      "30. \t143) [00:15] Armii Krajowej (Bogedaina)         - [00:16] Armii Krajowej (Day 4.0)\n",
      "31. \t143) [00:16] Armii Krajowej                     - [00:18] Międzyrzecka (Day 4.0)\n",
      "32. \t143) [00:18] Międzyrzecka                       - [00:20] Biegasa (Day 4.0)\n",
      "33. \t143) [00:20] Biegasa                            - [00:21] Chełmońskiego (Day 4.0)\n"
     ]
    },
    {
     "name": "stderr",
     "output_type": "stream",
     "text": [
      "Cost function: 66\n",
      "--- start: 0.0 seconds since start \n",
      "\t0.0 seconds since start\n",
      "--- proceeding end: 0.3619351387023926 seconds since start \n",
      "\t0.3619351387023926 seconds since proceeding start\n",
      "--- printing end: 0.3619351387023926 seconds since start \n",
      "\t0.0 seconds since printing start\n"
     ]
    }
   ],
   "source": [
    "a,b = 'WAŁBRZYSKA', 'Chełmońskiego'\n",
    "cost_d, time_d = s.find(a,b,'23:15:00',criteria='t', debug=True)"
   ]
  },
  {
   "cell_type": "markdown",
   "metadata": {},
   "source": [
    "Tak wygląda output dla *A\\**."
   ]
  },
  {
   "cell_type": "code",
   "execution_count": 110,
   "metadata": {},
   "outputs": [
    {
     "name": "stdout",
     "output_type": "stream",
     "text": [
      "Biegasa[51.099809, 17.086666] 1738\n",
      "Armii Krajowej[51.086705, 17.06947] 1458\n"
     ]
    }
   ],
   "source": [
    "print(s.dijkstra.stops_records[Stop('Międzyrzecka',0,0)].last_stop, s.dijkstra.stops_records[Stop('Międzyrzecka',0,0)].min_arrival_minutes)\n",
    "print(s.a_star.stops_records[Stop('Międzyrzecka',0,0)].last_stop, s.a_star.stops_records[Stop('Międzyrzecka',0,0)].g)"
   ]
  },
  {
   "cell_type": "markdown",
   "metadata": {},
   "source": [
    "A tu widać, że algorytmy rozjeżdżają się na przedostatnim przystanku poprawnej trasy - do jednego wiedzie zupełnie inna trasa niż do drugiego. Najlepiej gdyby trasy te były identyczne, a na pewno ta Dijkstry nie może być mniej korzystna, jeśli trasa jest optymalna."
   ]
  },
  {
   "cell_type": "code",
   "execution_count": 111,
   "metadata": {},
   "outputs": [
    {
     "data": {
      "text/html": [
       "<div>\n",
       "<style scoped>\n",
       "    .dataframe tbody tr th:only-of-type {\n",
       "        vertical-align: middle;\n",
       "    }\n",
       "\n",
       "    .dataframe tbody tr th {\n",
       "        vertical-align: top;\n",
       "    }\n",
       "\n",
       "    .dataframe thead th {\n",
       "        text-align: right;\n",
       "    }\n",
       "</style>\n",
       "<table border=\"1\" class=\"dataframe\">\n",
       "  <thead>\n",
       "    <tr style=\"text-align: right;\">\n",
       "      <th></th>\n",
       "      <th>start</th>\n",
       "      <th>end</th>\n",
       "      <th>d_cost</th>\n",
       "      <th>d_time</th>\n",
       "      <th>t_cost</th>\n",
       "      <th>t_time</th>\n",
       "    </tr>\n",
       "  </thead>\n",
       "  <tbody>\n",
       "    <tr>\n",
       "      <th>118</th>\n",
       "      <td>Jaksonowice (na wys. nr 27)</td>\n",
       "      <td>Jaworowa</td>\n",
       "      <td>444.0</td>\n",
       "      <td>0.247649</td>\n",
       "      <td>446.0</td>\n",
       "      <td>0.468159</td>\n",
       "    </tr>\n",
       "    <tr>\n",
       "      <th>151</th>\n",
       "      <td>Gajowicka</td>\n",
       "      <td>Karwińska</td>\n",
       "      <td>62.0</td>\n",
       "      <td>0.274876</td>\n",
       "      <td>122.0</td>\n",
       "      <td>0.415803</td>\n",
       "    </tr>\n",
       "  </tbody>\n",
       "</table>\n",
       "</div>"
      ],
      "text/plain": [
       "                           start        end  d_cost    d_time  t_cost  \\\n",
       "118  Jaksonowice (na wys. nr 27)   Jaworowa   444.0  0.247649   446.0   \n",
       "151                    Gajowicka  Karwińska    62.0  0.274876   122.0   \n",
       "\n",
       "       t_time  \n",
       "118  0.468159  \n",
       "151  0.415803  "
      ]
     },
     "execution_count": 111,
     "metadata": {},
     "output_type": "execute_result"
    }
   ],
   "source": [
    "comparison[comparison['d_cost'] < comparison ['t_cost']]"
   ]
  },
  {
   "cell_type": "markdown",
   "metadata": {},
   "source": [
    "Teraz dobre wiadomości: tylko w dwóch z tysiąca przypadków znalezione rozwiązanie jest nieoptymalne. Raz co prawda o godzinę, ale... Warto sprawdzić co to za trasa."
   ]
  },
  {
   "cell_type": "code",
   "execution_count": 119,
   "metadata": {},
   "outputs": [
    {
     "name": "stdout",
     "output_type": "stream",
     "text": [
      "From Gajowicka at 23:15:00:\n",
      " 1. \t 20) [23:21] Gajowicka                          - [23:22] Mielecka (Day 1)\n",
      " 2. \t 20) [23:22] Mielecka                           - [23:23] Ojca Beyzyma (Day 1)\n",
      " 3. \t 20) [23:23] Ojca Beyzyma                       - [23:25] Aleja Pracy (Day 1)\n",
      " 4. \t 20) [23:25] Aleja Pracy                        - [23:27] FAT (Day 1)\n",
      " 5. \t 11) [23:28] FAT                                - [23:29] Hutmen (Day 1)\n",
      " 6. \t 11) [23:29] Hutmen                             - [23:30] Bzowa (Centrum Historii Zajezdnia) (Day 1)\n",
      " 7. \t 11) [23:30] Bzowa (Centrum Historii Zajezdnia) - [23:31] pl. Srebrny (Day 1)\n",
      " 8. \t 11) [23:31] pl. Srebrny                        - [23:32] Stalowa (Day 1)\n",
      " 9. \t 11) [23:32] Stalowa                            - [23:33] Pereca (Day 1)\n",
      "10. \t 11) [23:33] Pereca                             - [23:34] Grabiszyńska (Day 1)\n",
      "11. \t 11) [23:34] Grabiszyńska                       - [23:35] Kolejowa (Day 1)\n",
      "12. \t 11) [23:35] Kolejowa                           - [23:37] pl. Legionów (Day 1)\n",
      "13. \t 21) [23:38] pl. Legionów                       - [23:40] Arkady (Capitol) (Day 1)\n",
      "14. \t  6) [23:46] Arkady (Capitol)                   - [23:48] Renoma (Day 1)\n",
      "15. \t248) [23:54] Renoma                             - [23:56] Świdnicka (Day 1)\n",
      "16. \t 11) [00:00] Świdnicka                          - [00:02] GALERIA DOMINIKAŃSKA (Day 2)\n",
      "17. \t243) [00:08] GALERIA DOMINIKAŃSKA               - [00:10] pl. Wróblewskiego (Day 2)\n",
      "18. \t243) [00:10] pl. Wróblewskiego                  - [00:11] pl. Zgody (Muzeum Etnograficzne) (Day 2)\n",
      "19. \t243) [00:11] pl. Zgody (Muzeum Etnograficzne)   - [00:13] Na Niskich Łąkach (Day 2)\n",
      "20. \t243) [00:13] Na Niskich Łąkach                  - [00:14] Krakowska (Day 2)\n",
      "21. \t243) [00:14] Krakowska                          - [00:15] KRAKOWSKA (Centrum handlowe) (Day 2)\n",
      "22. \t243) [00:15] KRAKOWSKA (Centrum handlowe)       - [00:16] Armii Krajowej (Day 2)\n",
      "23. \t243) [00:16] Armii Krajowej                     - [00:16] Park Wschodni (Day 2)\n",
      "24. \t243) [00:16] Park Wschodni                      - [00:17] Karwińska (Day 2)\n"
     ]
    },
    {
     "name": "stderr",
     "output_type": "stream",
     "text": [
      "Cost function: 62\n",
      "--- start: 0.0 seconds since start \n",
      "\t0.0 seconds since start\n",
      "--- proceeding end: 0.2559926509857178 seconds since start \n",
      "\t0.2559926509857178 seconds since proceeding start\n",
      "--- printing end: 0.2559926509857178 seconds since start \n",
      "\t0.0 seconds since printing start\n"
     ]
    },
    {
     "name": "stdout",
     "output_type": "stream",
     "text": [
      "From Gajowicka at 23:15:00:\n",
      " 1. \t 20) [23:21] Gajowicka                          - [23:22] Mielecka (Day 4.0)\n",
      " 2. \t 20) [23:22] Mielecka                           - [23:23] Ojca Beyzyma (Day 4.0)\n",
      " 3. \t 20) [23:23] Ojca Beyzyma                       - [23:25] Aleja Pracy (Day 4.0)\n",
      " 4. \t 20) [23:25] Aleja Pracy                        - [23:27] FAT (Day 4.0)\n",
      " 5. \t 11) [23:28] FAT                                - [23:29] Hutmen (Day 4.0)\n",
      " 6. \t 11) [23:29] Hutmen                             - [23:30] Bzowa (Centrum Historii Zajezdnia) (Day 4.0)\n",
      " 7. \t 11) [23:30] Bzowa (Centrum Historii Zajezdnia) - [23:31] pl. Srebrny (Day 4.0)\n",
      " 8. \t 11) [23:31] pl. Srebrny                        - [23:32] Stalowa (Day 4.0)\n",
      " 9. \t 11) [23:32] Stalowa                            - [23:33] Pereca (Day 4.0)\n",
      "10. \t 11) [23:33] Pereca                             - [23:34] Grabiszyńska (Day 4.0)\n",
      "11. \t 11) [23:34] Grabiszyńska                       - [23:35] Kolejowa (Day 4.0)\n",
      "12. \t 11) [23:35] Kolejowa                           - [23:37] pl. Legionów (Day 4.0)\n",
      "13. \t 21) [23:38] pl. Legionów                       - [23:40] Arkady (Capitol) (Day 4.0)\n",
      "14. \t 21) [23:40] Arkady (Capitol)                   - [23:43] DWORZEC AUTOBUSOWY (Day 4.0)\n",
      "15. \t 21) [23:43] DWORZEC AUTOBUSOWY                 - [23:45] Joannitów (Day 4.0)\n",
      "16. \t 21) [23:45] Joannitów                          - [23:46] Gajowa (Day 4.0)\n",
      "17. \t 21) [23:46] Gajowa                             - [23:48] Prudnicka (Day 4.0)\n",
      "18. \t 21) [23:48] Prudnicka                          - [23:49] Kamienna (Day 4.0)\n",
      "19. \t 21) [23:49] Kamienna                           - [23:51] Bardzka (Day 4.0)\n",
      "20. \t 21) [23:51] Bardzka                            - [23:52] Krynicka (Day 4.0)\n",
      "21. \t 21) [23:52] Krynicka                           - [23:53] Morwowa (Day 4.0)\n",
      "22. \t143) [00:12] Morwowa                            - [00:13] Złotostocka (Day 4.0)\n",
      "23. \t143) [00:13] Złotostocka                        - [00:14] Klimasa (Day 4.0)\n",
      "24. \t143) [00:14] Klimasa                            - [00:15] Armii Krajowej (Bogedaina) (Day 4.0)\n",
      "25. \t143) [00:15] Armii Krajowej (Bogedaina)         - [00:16] Armii Krajowej (Day 4.0)\n",
      "26. \t243) [01:16] Armii Krajowej                     - [01:16] Park Wschodni (Day 4.0)\n",
      "27. \t243) [01:16] Park Wschodni                      - [01:17] Karwińska (Day 4.0)\n"
     ]
    },
    {
     "name": "stderr",
     "output_type": "stream",
     "text": [
      "Cost function: 122\n",
      "--- start: 0.0 seconds since start \n",
      "\t0.0 seconds since start\n",
      "--- proceeding end: 0.34511613845825195 seconds since start \n",
      "\t0.34511613845825195 seconds since proceeding start\n",
      "--- printing end: 0.34511613845825195 seconds since start \n",
      "\t0.0 seconds since printing start\n"
     ]
    }
   ],
   "source": [
    "a,b = 'Gajowicka', 'Karwińska'\n",
    "cost_d, time_d = s.find(a,b,'23:15:00',criteria='d', debug=True)\n",
    "cost_d, time_d = s.find(a,b,'23:15:00',criteria='t', debug=True)"
   ]
  },
  {
   "cell_type": "markdown",
   "metadata": {},
   "source": [
    "Dlaczego na tym pozornie prostym odcinku *A\\** okazało się słabsze? Być może ponieważ optymalna trasa wymaga pojechania na początku w przeciwnym kierunku, co algorytm odłożył tak daleko, że prędzej znalazł nieoptymalne rozwiązanie pędzące ku celowi."
   ]
  },
  {
   "cell_type": "code",
   "execution_count": 164,
   "metadata": {},
   "outputs": [
    {
     "data": {
      "text/plain": [
       "0.225"
      ]
     },
     "execution_count": 164,
     "metadata": {},
     "output_type": "execute_result"
    }
   ],
   "source": [
    "len(comparison[comparison['d_time'] > comparison['t_time']]) / len(comparison)"
   ]
  },
  {
   "cell_type": "markdown",
   "metadata": {},
   "source": [
    "Absolutna porażka, *A\\** powinnien być efektywniejszy czasowo, w sumie po to go używamy. Przyjrzyjmy się rozkładom tych wartości."
   ]
  },
  {
   "cell_type": "code",
   "execution_count": 162,
   "metadata": {},
   "outputs": [
    {
     "data": {
      "image/png": "[encoded data removed]",
      "text/plain": [
       "<Figure size 640x480 with 2 Axes>"
      ]
     },
     "metadata": {},
     "output_type": "display_data"
    }
   ],
   "source": [
    "fig, axs = plt.subplots(2, sharex=True, sharey=True)\n",
    "fig.suptitle('Horizontally stacked subplots')\n",
    "axs[0].hist(comparison['t_time'], bins=50)\n",
    "axs[0].set_title(\"A*\")\n",
    "axs[1].hist(comparison['d_time'], bins=50)\n",
    "axs[1].set_title(\"Dijkstra\")\n",
    "plt.show()"
   ]
  },
  {
   "cell_type": "markdown",
   "metadata": {},
   "source": [
    "Dijkstra zawsze zajmuje powyżej 0.1 sekundy, A* czasem schodzi poniżej tę wartość. Logiczne, bo zawsze musi przejśc przez cały graf, podczas gdy bywa, że *A\\** od razu znajduje rozwiązanie. W większości przypadków jednak *A\\** osiąga słabsze wyniki od Dijkstry co jest bez sensu. Prawdopodobnie wynika to z tego, że *a)* heurystyka może być zbytnio obciążająca obliczeniowo lub *b)* może zbyt słabo kierować nas ku celowi. Może to też wynikać z doboru danych przez samplowanie, które jest w pełni losowe. Warto byłoby powtórzyć te doświadczenia dla innych hiperparametrów np. *prędkości* w heurystyce lub po prostu dla innej heurystyki."
   ]
  },
  {
   "cell_type": "code",
   "execution_count": 168,
   "metadata": {},
   "outputs": [],
   "source": [
    "seed('chalamet')\n",
    "fname = 'records_changes.csv'\n",
    "if not os.path.isfile(fname):\n",
    "    routes = pd.read_csv('connection_graph (1).csv', low_memory=False)\n",
    "    routes.set_index(keys='Unnamed: 0', inplace=True)\n",
    "    routes.drop_duplicates(ignore_index=True, inplace=True)\n",
    "    chosen_start = routes['start_stop']\n",
    "    chosen_end = routes['end_stop']\n",
    "    chosen_start.drop_duplicates(inplace=True)\n",
    "    chosen_end.drop_duplicates(inplace=True)\n",
    "    product = []\n",
    "    for i in chosen_start:\n",
    "        for j in chosen_end:\n",
    "            product.append((i,j))\n",
    "    with open(fname, 'w', encoding='utf-8-sig') as f:\n",
    "        for pair in sample(product,50):\n",
    "            a,b = pair\n",
    "            cost, time = s.find(a,b,'23:15:00',criteria='p', debug=False)\n",
    "            print(a,b,cost,time, sep=',', file=f)\n",
    "changes = pd.read_csv('records_changes.csv', header=None).rename(columns={i: ['start','end','p_cost','p_time'][i] \n",
    "                                                        for i in range(4)})"
   ]
  },
  {
   "cell_type": "code",
   "execution_count": 171,
   "metadata": {},
   "outputs": [
    {
     "data": {
      "text/plain": [
       "173.18388511657716"
      ]
     },
     "execution_count": 171,
     "metadata": {},
     "output_type": "execute_result"
    }
   ],
   "source": [
    "changes['p_time'].agg('average')"
   ]
  },
  {
   "cell_type": "markdown",
   "metadata": {},
   "source": [
    "Średnio na wynik dla kryterium przesiadek czekamy prawie 3 minuty. Luźno badając wcześniej pojawiały się wyniki rzędu 20-30s, dla standardowo wyszukiwanych połączeń."
   ]
  },
  {
   "cell_type": "markdown",
   "metadata": {},
   "source": [
    "# Podsumowanie"
   ]
  },
  {
   "cell_type": "code",
   "execution_count": 178,
   "metadata": {},
   "outputs": [
    {
     "name": "stdout",
     "output_type": "stream",
     "text": [
      "A* przesiadki:\n",
      "From DWORZEC NADODRZE at 8:17:00:\n",
      " 1. \t1) [08:28] DWORZEC NADODRZE                  - [08:30] Słowiańska (Day 1)\n",
      " 2. \t1) [08:30] Słowiańska                        - [08:32] Nowowiejska (Day 1)\n",
      " 3. \t1) [08:32] Nowowiejska                       - [08:34] Wyszyńskiego (Day 1)\n",
      " 4. \t1) [08:34] Wyszyńskiego                      - [08:35] Prusa (Day 1)\n",
      " 5. \t1) [08:35] Prusa                             - [08:37] Piastowska (Day 1)\n",
      " 6. \t1) [08:37] Piastowska                        - [08:40] PL. GRUNWALDZKI (Day 1)\n",
      " 7. \t1) [08:41] PL. GRUNWALDZKI                   - [08:42] Kliniki - Politechnika Wrocławska (Day 1)\n",
      " 8. \t1) [08:42] Kliniki - Politechnika Wrocławska - [08:44] Hala Stulecia (Day 1)\n",
      " 9. \t1) [08:44] Hala Stulecia                     - [08:45] ZOO (Day 1)\n",
      "10. \t1) [08:45] ZOO                               - [08:46] Tramwajowa (Day 1)\n",
      "A* czas:\n",
      "From DWORZEC NADODRZE at 8:17:00:\n",
      " 1. \t 16) [08:19] DWORZEC NADODRZE                  - [08:21] Słowiańska (Day 3.0)\n",
      " 2. \t 16) [08:21] Słowiańska                        - [08:23] Nowowiejska (Day 3.0)\n",
      " 3. \t 16) [08:23] Nowowiejska                       - [08:25] Wyszyńskiego (Day 3.0)\n",
      " 4. \t 16) [08:25] Wyszyńskiego                      - [08:26] Prusa (Day 3.0)\n",
      " 5. \t 16) [08:26] Prusa                             - [08:28] Piastowska (Day 3.0)\n",
      " 6. \t 16) [08:28] Piastowska                        - [08:31] PL. GRUNWALDZKI (Day 3.0)\n",
      " 7. \t115) [08:33] PL. GRUNWALDZKI                   - [08:35] Kliniki - Politechnika Wrocławska (Day 3.0)\n",
      " 8. \t  4) [08:37] Kliniki - Politechnika Wrocławska - [08:39] Hala Stulecia (Day 3.0)\n",
      " 9. \t  4) [08:39] Hala Stulecia                     - [08:40] ZOO (Day 3.0)\n",
      "10. \t  4) [08:40] ZOO                               - [08:41] Tramwajowa (Day 3.0)\n",
      "Dijkstra:\n"
     ]
    },
    {
     "name": "stderr",
     "output_type": "stream",
     "text": [
      "Cost function: 0\n",
      "--- start: 0.0 seconds since start \n",
      "\t0.0 seconds since start\n",
      "--- proceeding end: 4.430532693862915 seconds since start \n",
      "\t4.430532693862915 seconds since proceeding start\n",
      "--- printing end: 4.431648015975952 seconds since start \n",
      "\t0.0011153221130371094 seconds since printing start\n",
      "Cost function: 24\n",
      "--- start: 0.0 seconds since start \n",
      "\t0.0 seconds since start\n",
      "--- proceeding end: 0.11709761619567871 seconds since start \n",
      "\t0.11709761619567871 seconds since proceeding start\n",
      "--- printing end: 0.11709761619567871 seconds since start \n",
      "\t0.0 seconds since printing start\n"
     ]
    },
    {
     "name": "stdout",
     "output_type": "stream",
     "text": [
      "From DWORZEC NADODRZE at 8:17:00:\n",
      " 1. \t 16) [08:19] DWORZEC NADODRZE                  - [08:21] Słowiańska (Day 1)\n",
      " 2. \t 16) [08:21] Słowiańska                        - [08:23] Nowowiejska (Day 1)\n",
      " 3. \t 16) [08:23] Nowowiejska                       - [08:25] Wyszyńskiego (Day 1)\n",
      " 4. \t 16) [08:25] Wyszyńskiego                      - [08:26] Prusa (Day 1)\n",
      " 5. \t 16) [08:26] Prusa                             - [08:28] Piastowska (Day 1)\n",
      " 6. \t 16) [08:28] Piastowska                        - [08:31] PL. GRUNWALDZKI (Day 1)\n",
      " 7. \t115) [08:33] PL. GRUNWALDZKI                   - [08:35] Kliniki - Politechnika Wrocławska (Day 1)\n",
      " 8. \t  4) [08:37] Kliniki - Politechnika Wrocławska - [08:39] Hala Stulecia (Day 1)\n",
      " 9. \t  4) [08:39] Hala Stulecia                     - [08:40] ZOO (Day 1)\n",
      "10. \t  4) [08:40] ZOO                               - [08:41] Tramwajowa (Day 1)\n"
     ]
    },
    {
     "name": "stderr",
     "output_type": "stream",
     "text": [
      "Cost function: 24\n",
      "--- start: 0.0 seconds since start \n",
      "\t0.0 seconds since start\n",
      "--- proceeding end: 0.2209627628326416 seconds since start \n",
      "\t0.2209627628326416 seconds since proceeding start\n",
      "--- printing end: 0.2209627628326416 seconds since start \n",
      "\t0.0 seconds since printing start\n"
     ]
    },
    {
     "data": {
      "text/plain": [
       "(24, 0.2209627628326416)"
      ]
     },
     "execution_count": 178,
     "metadata": {},
     "output_type": "execute_result"
    }
   ],
   "source": [
    "a,b = 'DWORZEC NADODRZE', 'Tramwajowa'\n",
    "time = '8:17:00'\n",
    "print('A* przesiadki:')\n",
    "s.find(a,b,time,criteria='p', debug=True)\n",
    "print('A* czas:')\n",
    "s.find(a,b,time,criteria='t', debug=True)\n",
    "print('Dijkstra:')\n",
    "s.find(a,b,time,criteria='d', debug=True)"
   ]
  },
  {
   "cell_type": "markdown",
   "metadata": {},
   "source": [
    "I tym optymistycznym akcentem zakończmy: heurystyki zadziałały, optymalne rozwiązania zostały znalezione, *A\\** dla kryterium przesiadek zajął tylko kilka sekund, a dla kryterium czasowego był szybszy niż Dijkstra."
   ]
  },
  {
   "cell_type": "markdown",
   "metadata": {},
   "source": [
    "Zadanie częściowo można uznać za udane. Opracowano rozwiązania, które działają obiecująco dla ograniczonych przypadków testowych, jednak zapewne w wyniku niewykrytych błędów i narzutów czasowych lub strukturalnych wyniki dla testów przekrojowych bynajmniej nie są obiecujące.\n",
    "## Wnioski:\n",
    "1. Struktura może być zbyt zagmatwana.\n",
    "2. Heurystyka może nie być podkręcona dostatecznie.\n",
    "3. Na wykonanie tej listy potrzeba znacznie więcej czasu (i sił)."
   ]
  }
 ],
 "metadata": {
  "kernelspec": {
   "display_name": "si",
   "language": "python",
   "name": "python3"
  },
  "language_info": {
   "codemirror_mode": {
    "name": "ipython",
    "version": 3
   },
   "file_extension": ".py",
   "mimetype": "text/x-python",
   "name": "python",
   "nbconvert_exporter": "python",
   "pygments_lexer": "ipython3",
   "version": "3.12.2"
  }
 },
 "nbformat": 4,
 "nbformat_minor": 2
}
